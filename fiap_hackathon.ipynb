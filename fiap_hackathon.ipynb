{
 "cells": [
  {
   "cell_type": "code",
   "execution_count": 2,
   "metadata": {},
   "outputs": [],
   "source": [
    "import numpy as np\n",
    "import pandas as pd\n",
    "import os"
   ]
  },
  {
   "cell_type": "markdown",
   "metadata": {},
   "source": [
    "# Gerando dataset full"
   ]
  },
  {
   "cell_type": "code",
   "execution_count": 3,
   "metadata": {},
   "outputs": [],
   "source": [
    "# dir files are located\n",
    "path = '/home/andre/Downloads/files/'"
   ]
  },
  {
   "cell_type": "code",
   "execution_count": 4,
   "metadata": {},
   "outputs": [
    {
     "name": "stderr",
     "output_type": "stream",
     "text": [
      "b'Skipping line 5339: expected 8 fields, saw 10\\n'\n",
      "b'Skipping line 4208: expected 8 fields, saw 9\\nSkipping line 14644: expected 8 fields, saw 10\\n'\n",
      "b'Skipping line 14639: expected 8 fields, saw 10\\n'\n",
      "b'Skipping line 1132: expected 8 fields, saw 9\\nSkipping line 7419: expected 8 fields, saw 10\\n'\n",
      "b'Skipping line 14195: expected 8 fields, saw 10\\n'\n",
      "b'Skipping line 5048: expected 8 fields, saw 9\\n'\n",
      "b'Skipping line 8923: expected 8 fields, saw 10\\n'\n",
      "b'Skipping line 12982: expected 8 fields, saw 10\\n'\n",
      "b'Skipping line 1047: expected 8 fields, saw 10\\n'\n",
      "b'Skipping line 1548: expected 8 fields, saw 9\\nSkipping line 2882: expected 8 fields, saw 9\\n'\n",
      "b'Skipping line 13967: expected 8 fields, saw 10\\n'\n",
      "b'Skipping line 1804: expected 8 fields, saw 9\\nSkipping line 4270: expected 8 fields, saw 10\\n'\n",
      "b'Skipping line 5968: expected 8 fields, saw 10\\n'\n",
      "b'Skipping line 7421: expected 8 fields, saw 10\\nSkipping line 8944: expected 8 fields, saw 10\\n'\n",
      "b'Skipping line 1372: expected 8 fields, saw 9\\n'\n",
      "b'Skipping line 8865: expected 8 fields, saw 10\\n'\n",
      "b'Skipping line 2897: expected 8 fields, saw 10\\n'\n",
      "b'Skipping line 6784: expected 8 fields, saw 10\\n'\n",
      "b'Skipping line 4614: expected 8 fields, saw 9\\nSkipping line 4677: expected 8 fields, saw 10\\n'\n",
      "b'Skipping line 8742: expected 8 fields, saw 11\\n'\n",
      "b'Skipping line 1665: expected 8 fields, saw 10\\n'\n",
      "b'Skipping line 5333: expected 8 fields, saw 10\\n'\n",
      "b'Skipping line 7168: expected 8 fields, saw 10\\nSkipping line 10300: expected 8 fields, saw 10\\n'\n",
      "b'Skipping line 8661: expected 8 fields, saw 10\\n'\n",
      "b'Skipping line 14785: expected 8 fields, saw 10\\n'\n",
      "b'Skipping line 2979: expected 8 fields, saw 9\\nSkipping line 9303: expected 8 fields, saw 10\\nSkipping line 9959: expected 8 fields, saw 10\\n'\n",
      "b'Skipping line 7956: expected 8 fields, saw 10\\n'\n",
      "b'Skipping line 14068: expected 8 fields, saw 10\\n'\n",
      "b'Skipping line 6409: expected 8 fields, saw 9\\nSkipping line 13209: expected 8 fields, saw 15\\n'\n"
     ]
    }
   ],
   "source": [
    "df = None\n",
    "for r, d, f in os.walk(path):\n",
    "    for file in f:\n",
    "        try:\n",
    "            temp = pd.read_csv(path + file, error_bad_lines = False)\n",
    "            if df is None:\n",
    "                df = temp\n",
    "            else:\n",
    "                df = pd.concat([df, temp], axis = 0, ignore_index = True)\n",
    "        except Exception as e:\n",
    "            print(file)\n",
    "            print(e)"
   ]
  },
  {
   "cell_type": "code",
   "execution_count": 5,
   "metadata": {},
   "outputs": [],
   "source": [
    "# gerando o dataset full\n",
    "df.to_csv('./full_dataset.csv', index = None)"
   ]
  },
  {
   "cell_type": "markdown",
   "metadata": {},
   "source": [
    "# Limpeza dos dados"
   ]
  },
  {
   "cell_type": "code",
   "execution_count": 6,
   "metadata": {},
   "outputs": [],
   "source": [
    "df.dropna(subset = ['encrypted_buyer_cpf'], inplace = True)"
   ]
  },
  {
   "cell_type": "code",
   "execution_count": 7,
   "metadata": {},
   "outputs": [],
   "source": [
    "from datetime import datetime\n",
    "df['dateTime'] = df['dateTime'].apply(lambda x: datetime.strptime(x, '%Y-%m-%dT%H:%M:%S.000Z'))"
   ]
  },
  {
   "cell_type": "code",
   "execution_count": 8,
   "metadata": {},
   "outputs": [],
   "source": [
    "df.drop('encrypted_buyer_cnpj', axis = 1, inplace = True)"
   ]
  },
  {
   "cell_type": "code",
   "execution_count": 17,
   "metadata": {},
   "outputs": [],
   "source": [
    "df['productTotal'] = df['productTotal'].apply(float)"
   ]
  },
  {
   "cell_type": "code",
   "execution_count": 26,
   "metadata": {},
   "outputs": [],
   "source": [
    "df.reset_index(drop = True, inplace = True)"
   ]
  },
  {
   "cell_type": "markdown",
   "metadata": {},
   "source": [
    "# Análise exploratoria dos dados"
   ]
  },
  {
   "cell_type": "code",
   "execution_count": 184,
   "metadata": {},
   "outputs": [
    {
     "ename": "ModuleNotFoundError",
     "evalue": "No module named 'seaborn'",
     "output_type": "error",
     "traceback": [
      "\u001b[0;31m---------------------------------------------------------------------------\u001b[0m",
      "\u001b[0;31mModuleNotFoundError\u001b[0m                       Traceback (most recent call last)",
      "\u001b[0;32m<ipython-input-184-2a34e7750742>\u001b[0m in \u001b[0;36m<module>\u001b[0;34m\u001b[0m\n\u001b[1;32m      1\u001b[0m \u001b[0;32mimport\u001b[0m \u001b[0mmatplotlib\u001b[0m\u001b[0;34m.\u001b[0m\u001b[0mpyplot\u001b[0m \u001b[0;32mas\u001b[0m \u001b[0mplt\u001b[0m\u001b[0;34m\u001b[0m\u001b[0;34m\u001b[0m\u001b[0m\n\u001b[0;32m----> 2\u001b[0;31m \u001b[0;32mimport\u001b[0m \u001b[0mseaborn\u001b[0m \u001b[0;32mas\u001b[0m \u001b[0msns\u001b[0m\u001b[0;34m\u001b[0m\u001b[0;34m\u001b[0m\u001b[0m\n\u001b[0m",
      "\u001b[0;31mModuleNotFoundError\u001b[0m: No module named 'seaborn'"
     ]
    }
   ],
   "source": [
    "import matplotlib.pyplot as plt\n",
    "import seaborn as sns"
   ]
  },
  {
   "cell_type": "code",
   "execution_count": 10,
   "metadata": {},
   "outputs": [
    {
     "data": {
      "text/html": [
       "<div>\n",
       "<style scoped>\n",
       "    .dataframe tbody tr th:only-of-type {\n",
       "        vertical-align: middle;\n",
       "    }\n",
       "\n",
       "    .dataframe tbody tr th {\n",
       "        vertical-align: top;\n",
       "    }\n",
       "\n",
       "    .dataframe thead th {\n",
       "        text-align: right;\n",
       "    }\n",
       "</style>\n",
       "<table border=\"1\" class=\"dataframe\">\n",
       "  <thead>\n",
       "    <tr style=\"text-align: right;\">\n",
       "      <th></th>\n",
       "      <th>encrypted_domain</th>\n",
       "      <th>encrypted_cnpj</th>\n",
       "      <th>encrypted_saleid</th>\n",
       "      <th>dateTime</th>\n",
       "      <th>productTotal</th>\n",
       "      <th>prod_fullname</th>\n",
       "      <th>encrypted_buyer_cpf</th>\n",
       "    </tr>\n",
       "  </thead>\n",
       "  <tbody>\n",
       "    <tr>\n",
       "      <th>89</th>\n",
       "      <td>6139646137356433363237396637323937336161383832...</td>\n",
       "      <td>c6ff3c4b6f74f5e29a1bdeabdcc3</td>\n",
       "      <td>6633313930633530336638393862633334626466383636...</td>\n",
       "      <td>2018-10-05 17:56:38</td>\n",
       "      <td>140.362</td>\n",
       "      <td>gasolina comum</td>\n",
       "      <td>6130353534346532323630313964383964373936643339...</td>\n",
       "    </tr>\n",
       "    <tr>\n",
       "      <th>107</th>\n",
       "      <td>6139646137356433363237396637323937336161383832...</td>\n",
       "      <td>dc8e4dc39eee8752dc47cb3622ba</td>\n",
       "      <td>6162366565383162353532353439646238373336633364...</td>\n",
       "      <td>2018-11-29 06:29:13</td>\n",
       "      <td>60.0012</td>\n",
       "      <td>gasolina comum</td>\n",
       "      <td>3662616338613465643033306236343134363063616165...</td>\n",
       "    </tr>\n",
       "    <tr>\n",
       "      <th>111</th>\n",
       "      <td>6139646137356433363237396637323937336161383832...</td>\n",
       "      <td>ac59cda296731f6cbb3d74a37007</td>\n",
       "      <td>3335343565316263636363656137316634653135623832...</td>\n",
       "      <td>2018-10-29 08:52:40</td>\n",
       "      <td>165.081</td>\n",
       "      <td>gasolina aditivada</td>\n",
       "      <td>6538326130613130383265633531396334376662643230...</td>\n",
       "    </tr>\n",
       "    <tr>\n",
       "      <th>151</th>\n",
       "      <td>6139646137356433363237396637323937336161383832...</td>\n",
       "      <td>c725c3512e48af495bf5f35bf8c3</td>\n",
       "      <td>6261313932363331366161333133363436323638353038...</td>\n",
       "      <td>2018-11-26 14:57:22</td>\n",
       "      <td>235.258</td>\n",
       "      <td>gasolina grid</td>\n",
       "      <td>6530643461373561643166656138633035653534383234...</td>\n",
       "    </tr>\n",
       "    <tr>\n",
       "      <th>235</th>\n",
       "      <td>6139646137356433363237396637323937336161383832...</td>\n",
       "      <td>1d1616faa7bba008e11ade1dc818</td>\n",
       "      <td>3137616264363434366330393534346431393161333137...</td>\n",
       "      <td>2018-12-03 12:21:21</td>\n",
       "      <td>5.5</td>\n",
       "      <td>bebida pronta cafe leite g 1un</td>\n",
       "      <td>3262366362343761613361336635363563363963313661...</td>\n",
       "    </tr>\n",
       "  </tbody>\n",
       "</table>\n",
       "</div>"
      ],
      "text/plain": [
       "                                      encrypted_domain  \\\n",
       "89   6139646137356433363237396637323937336161383832...   \n",
       "107  6139646137356433363237396637323937336161383832...   \n",
       "111  6139646137356433363237396637323937336161383832...   \n",
       "151  6139646137356433363237396637323937336161383832...   \n",
       "235  6139646137356433363237396637323937336161383832...   \n",
       "\n",
       "                   encrypted_cnpj  \\\n",
       "89   c6ff3c4b6f74f5e29a1bdeabdcc3   \n",
       "107  dc8e4dc39eee8752dc47cb3622ba   \n",
       "111  ac59cda296731f6cbb3d74a37007   \n",
       "151  c725c3512e48af495bf5f35bf8c3   \n",
       "235  1d1616faa7bba008e11ade1dc818   \n",
       "\n",
       "                                      encrypted_saleid            dateTime  \\\n",
       "89   6633313930633530336638393862633334626466383636... 2018-10-05 17:56:38   \n",
       "107  6162366565383162353532353439646238373336633364... 2018-11-29 06:29:13   \n",
       "111  3335343565316263636363656137316634653135623832... 2018-10-29 08:52:40   \n",
       "151  6261313932363331366161333133363436323638353038... 2018-11-26 14:57:22   \n",
       "235  3137616264363434366330393534346431393161333137... 2018-12-03 12:21:21   \n",
       "\n",
       "    productTotal                   prod_fullname  \\\n",
       "89       140.362                  gasolina comum   \n",
       "107      60.0012                  gasolina comum   \n",
       "111      165.081              gasolina aditivada   \n",
       "151      235.258                   gasolina grid   \n",
       "235          5.5  bebida pronta cafe leite g 1un   \n",
       "\n",
       "                                   encrypted_buyer_cpf  \n",
       "89   6130353534346532323630313964383964373936643339...  \n",
       "107  3662616338613465643033306236343134363063616165...  \n",
       "111  6538326130613130383265633531396334376662643230...  \n",
       "151  6530643461373561643166656138633035653534383234...  \n",
       "235  3262366362343761613361336635363563363963313661...  "
      ]
     },
     "execution_count": 10,
     "metadata": {},
     "output_type": "execute_result"
    }
   ],
   "source": [
    "df.head()"
   ]
  },
  {
   "cell_type": "code",
   "execution_count": 43,
   "metadata": {},
   "outputs": [
    {
     "name": "stdout",
     "output_type": "stream",
     "text": [
      "<class 'pandas.core.frame.DataFrame'>\n",
      "RangeIndex: 525215 entries, 0 to 525214\n",
      "Data columns (total 7 columns):\n",
      "encrypted_domain       525215 non-null object\n",
      "encrypted_cnpj         525215 non-null object\n",
      "encrypted_saleid       525215 non-null object\n",
      "dateTime               525215 non-null datetime64[ns]\n",
      "productTotal           525215 non-null float64\n",
      "prod_fullname          525215 non-null object\n",
      "encrypted_buyer_cpf    525215 non-null object\n",
      "dtypes: datetime64[ns](1), float64(1), object(5)\n",
      "memory usage: 28.0+ MB\n"
     ]
    }
   ],
   "source": [
    "df.info()"
   ]
  },
  {
   "cell_type": "markdown",
   "metadata": {},
   "source": [
    "## Análise de cpf's"
   ]
  },
  {
   "cell_type": "code",
   "execution_count": 49,
   "metadata": {},
   "outputs": [
    {
     "name": "stdout",
     "output_type": "stream",
     "text": [
      "cpf unicos: 105636\n"
     ]
    }
   ],
   "source": [
    "print(f'cpf unicos: {len(df[\"encrypted_buyer_cpf\"].unique())}')"
   ]
  },
  {
   "cell_type": "code",
   "execution_count": 63,
   "metadata": {},
   "outputs": [
    {
     "name": "stdout",
     "output_type": "stream",
     "text": [
      "clientes com mais compras: \n",
      "\n",
      "encrypted_buyer_cpf\n",
      "3264383032613763326131653863326564326130623736343733396136306164    349100\n",
      "6361653363353332616531376531356466626335653165653234636134326664     11991\n",
      "6439646133306235346238393937353434303735623665656561396138373565      6181\n",
      "3130313932656530383033313436313733393761373632373735636133326539      4856\n",
      "3336326439303764313766626336623334636433626534666362313739613738      3706\n",
      "3835646130323664663762346639613861346135373835303232393365353531      3581\n",
      "3137363966616663616434616436326137373637363135366439353737363136      3519\n",
      "3463623365623136373436316134353738656635303639653638343734623331      2816\n",
      "6435356137633462323238663262386463333565333061613337343163643066      1232\n",
      "6264336336646165626338613239383632666461356562613736356139633566      1163\n",
      "6430326337616136623931313938616465626130653563353030663739613764       937\n",
      "3865373232323439313834323036623933363765346435616231613166316336       853\n",
      "3564346636376339346538663762363835633663653032356331316535316364       695\n",
      "3836326230376463623739396237356434396562616436366433393565306262       650\n",
      "6165343831326564393564633834653031313134653636366232666561373037       566\n",
      "3836666230616431343061646565346265323333336635383564633665643135       549\n",
      "6531383665393161303365633132656163666132633835303965323736313761       484\n",
      "6538616535313933353034313661363562386365326465326361373861303030       446\n",
      "6438616136383663663962316165366438356631363238373436663963396362       423\n",
      "6663386236346139613662613061393534613866376637343836333563636337       388\n",
      "Name: encrypted_domain, dtype: int64\n"
     ]
    }
   ],
   "source": [
    "print(f'clientes com mais compras: \\n\\n{df.groupby(\"encrypted_buyer_cpf\").count()[\"encrypted_domain\"].sort_values(ascending = False)[0:20]}')"
   ]
  },
  {
   "cell_type": "markdown",
   "metadata": {},
   "source": [
    "## Análise de produtos"
   ]
  },
  {
   "cell_type": "code",
   "execution_count": 70,
   "metadata": {},
   "outputs": [
    {
     "name": "stdout",
     "output_type": "stream",
     "text": [
      "produtos mais comprados: \n",
      "\n",
      " prod_fullname\n",
      "gasolina comum                                        3316\n",
      "buffet kg                                             1603\n",
      "miniatura coração variados un                          723\n",
      "ac. salada com molho italiano                          689\n",
      "milho para pipoca premium a granel                     592\n",
      "pacoquita diet quadrada emb 22g (24)                   587\n",
      "vertix lixa descartável 17cm unid 1                    564\n",
      "etanol                                                 554\n",
      "cafe espresso                                          548\n",
      "pipoca canjica doce 50g (36)                           545\n",
      "ac. molho vinagrete                                    527\n",
      "desincha sch 1g (90)                                   525\n",
      "bananada  l sem add acucar 250g                        517\n",
      "gasolina aditivada                                     512\n",
      "salgado integral (lanchonete)                          500\n",
      "pao de queijo                                          497\n",
      "papel seda                                             457\n",
      "meia   am sportwear, u, 9990 preta                     448\n",
      "coxinha sabores                                        441\n",
      "salgado delicia do forno unidade delicias do forno     436\n",
      "ac. batata frita media                                 433\n",
      "desincha dia 60sch 90g                                 431\n",
      "agua s gas - 500ml                                     421\n",
      "meia   au sport kit3, g, 0910 sortida                  412\n",
      "promoção salgado + guaravita delicias do forno         408\n",
      "meia   am classica, u, 9990 preta                      399\n",
      "agua de coco 300ml                                     396\n",
      "refri coca cola lata                                   391\n",
      "pipoca canjica salgada 50g (36)                        387\n",
      "fita cetim larga                                       378\n",
      "gasolina c aditivada                                   377\n",
      "pao semolina gde                                       361\n",
      "loreal lp oxidante cr 20 vol by loreal 75 ml 1         345\n",
      "pao int 100% 500g pao do bento                         344\n",
      "coca cola 300 ml                                       336\n",
      "ac. batata frita 60g                                   335\n",
      "etanol hidratado                                       335\n",
      "croissant int de frango e requeijao un                 333\n",
      "pingado                                                331\n",
      "agua mineral crystal crystal                           326\n",
      "Name: encrypted_domain, dtype: int64\n"
     ]
    }
   ],
   "source": [
    "print(f'produtos mais comprados: \\n\\n {df.groupby(\"prod_fullname\").count()[\"encrypted_domain\"].sort_values(ascending = False)[0:40]}')"
   ]
  },
  {
   "cell_type": "markdown",
   "metadata": {},
   "source": [
    "## Análise de hora/dia"
   ]
  },
  {
   "cell_type": "code",
   "execution_count": 78,
   "metadata": {},
   "outputs": [],
   "source": [
    "df['hour'] = df['dateTime'].apply(lambda x: x.hour)"
   ]
  },
  {
   "cell_type": "code",
   "execution_count": 113,
   "metadata": {},
   "outputs": [],
   "source": [
    "df['weekday'] = df['dateTime'].apply(lambda x: x.weekday())"
   ]
  },
  {
   "cell_type": "code",
   "execution_count": 97,
   "metadata": {},
   "outputs": [
    {
     "data": {
      "text/plain": [
       "Text(0, 0.5, 'quantidade de compras feitas')"
      ]
     },
     "execution_count": 97,
     "metadata": {},
     "output_type": "execute_result"
    },
    {
     "data": {
      "image/png": "[encoded data removed]",
      "text/plain": [
       "<Figure size 720x432 with 1 Axes>"
      ]
     },
     "metadata": {
      "needs_background": "light"
     },
     "output_type": "display_data"
    }
   ],
   "source": [
    "count_hour = df.groupby('hour').count()['encrypted_domain']\n",
    "plt.figure(figsize = (10, 6))\n",
    "plt.scatter(np.arange(len(count_hour)), count_hour)\n",
    "plt.grid()\n",
    "plt.title('quantidade de compras ao longo do dia')\n",
    "plt.xlabel('horario do dia')\n",
    "plt.ylabel('quantidade de compras feitas')\n",
    "\n",
    "# o que acontece as 0 horas? seria um erro na base?"
   ]
  },
  {
   "cell_type": "code",
   "execution_count": 140,
   "metadata": {},
   "outputs": [
    {
     "data": {
      "image/png": "[encoded data removed]",
      "text/plain": [
       "<Figure size 720x432 with 1 Axes>"
      ]
     },
     "metadata": {
      "needs_background": "light"
     },
     "output_type": "display_data"
    }
   ],
   "source": [
    "plt.figure(figsize = (10, 6))\n",
    "df.groupby('hour').mean()['productTotal'].plot.bar()\n",
    "plt.grid()\n",
    "plt.title('valor medio das compras ao longo do dia')\n",
    "plt.xlabel('hora do dia')\n",
    "plt.ylabel('valor medio das compras');\n",
    "\n",
    "# as 20hrs parece ter um outlier"
   ]
  },
  {
   "cell_type": "code",
   "execution_count": 141,
   "metadata": {},
   "outputs": [
    {
     "data": {
      "image/png": "[encoded data removed]",
      "text/plain": [
       "<Figure size 720x432 with 1 Axes>"
      ]
     },
     "metadata": {
      "needs_background": "light"
     },
     "output_type": "display_data"
    }
   ],
   "source": [
    "plt.figure(figsize = (10, 6))\n",
    "df.groupby('weekday').count()['encrypted_domain'].plot.area()\n",
    "plt.xticks(range(7), ['Segunda', 'Terça', 'Quarta', 'Quinta', 'Sexta', 'Sabado', 'Domingo']);\n",
    "plt.grid()\n",
    "plt.title('quantidade de compras ao longo da semana')\n",
    "plt.xlabel('dias da semana')\n",
    "plt.ylabel('quantidade de compras');\n",
    "\n",
    "# parece que podemos o dia da semana não interfere muito nas compras"
   ]
  },
  {
   "cell_type": "code",
   "execution_count": 153,
   "metadata": {},
   "outputs": [
    {
     "data": {
      "image/png": "[encoded data removed]",
      "text/plain": [
       "<Figure size 720x432 with 1 Axes>"
      ]
     },
     "metadata": {
      "needs_background": "light"
     },
     "output_type": "display_data"
    }
   ],
   "source": [
    "plt.figure(figsize = (10, 6))\n",
    "df.groupby('weekday').mean()['productTotal'].plot.bar()\n",
    "plt.xticks(range(7), ['Segunda', 'Terça', 'Quarta', 'Quinta', 'Sexta', 'Sabado', 'Domingo']);\n",
    "plt.grid()\n",
    "plt.title('Valor médio das compras ao longo da semana')\n",
    "plt.xlabel('dias da semana')\n",
    "plt.ylabel('valor médio das compras');\n",
    "\n",
    "# quinta parece ser um outlier?"
   ]
  },
  {
   "cell_type": "code",
   "execution_count": 183,
   "metadata": {},
   "outputs": [
    {
     "data": {
      "image/png": "[encoded data removed]",
      "text/plain": [
       "<Figure size 360x1080 with 1 Axes>"
      ]
     },
     "metadata": {
      "needs_background": "light"
     },
     "output_type": "display_data"
    }
   ],
   "source": [
    "plt.figure(figsize = (5, 15))\n",
    "plt.imshow(df.groupby(['hour', 'weekday']).mean()['productTotal'].unstack().values[:, :, np.newaxis][:,:,0], cmap='hot', interpolation='nearest')\n",
    "plt.xticks(range(7), ['Segunda', 'Terça', 'Quarta', 'Quinta', 'Sexta', 'Sabado', 'Domingo']);\n",
    "plt.grid()\n",
    "plt.title('Valor médio das compras ao longo da semana')\n",
    "plt.xlabel('dias da semana')\n",
    "plt.ylabel('valor médio das compras');"
   ]
  },
  {
   "cell_type": "code",
   "execution_count": null,
   "metadata": {},
   "outputs": [],
   "source": []
  }
 ],
 "metadata": {
  "kernelspec": {
   "display_name": "Python 3",
   "language": "python",
   "name": "python3"
  },
  "language_info": {
   "codemirror_mode": {
    "name": "ipython",
    "version": 3
   },
   "file_extension": ".py",
   "mimetype": "text/x-python",
   "name": "python",
   "nbconvert_exporter": "python",
   "pygments_lexer": "ipython3",
   "version": "3.7.3"
  }
 },
 "nbformat": 4,
 "nbformat_minor": 2
}
